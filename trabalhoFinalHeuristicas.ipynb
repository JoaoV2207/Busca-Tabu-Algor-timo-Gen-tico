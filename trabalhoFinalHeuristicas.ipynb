{
  "cells": [
    {
      "cell_type": "code",
      "execution_count": 5,
      "metadata": {},
      "outputs": [
        {
          "name": "stdout",
          "output_type": "stream",
          "text": [
            "Collecting numpy\n",
            "  Downloading numpy-2.2.2-cp313-cp313-win_amd64.whl.metadata (60 kB)\n",
            "Downloading numpy-2.2.2-cp313-cp313-win_amd64.whl (12.6 MB)\n",
            "   ---------------------------------------- 0.0/12.6 MB ? eta -:--:--\n",
            "   ----- ---------------------------------- 1.8/12.6 MB 9.4 MB/s eta 0:00:02\n",
            "   --------- ------------------------------ 3.1/12.6 MB 7.8 MB/s eta 0:00:02\n",
            "   ------------- -------------------------- 4.2/12.6 MB 6.9 MB/s eta 0:00:02\n",
            "   ---------------- ----------------------- 5.2/12.6 MB 6.7 MB/s eta 0:00:02\n",
            "   ------------------- -------------------- 6.3/12.6 MB 6.2 MB/s eta 0:00:02\n",
            "   ---------------------- ----------------- 7.1/12.6 MB 5.7 MB/s eta 0:00:01\n",
            "   ------------------------ --------------- 7.9/12.6 MB 5.5 MB/s eta 0:00:01\n",
            "   --------------------------- ------------ 8.7/12.6 MB 5.3 MB/s eta 0:00:01\n",
            "   ----------------------------- ---------- 9.4/12.6 MB 5.1 MB/s eta 0:00:01\n",
            "   -------------------------------- ------- 10.2/12.6 MB 5.0 MB/s eta 0:00:01\n",
            "   ---------------------------------- ----- 10.7/12.6 MB 4.8 MB/s eta 0:00:01\n",
            "   ---------------------------------- ----- 11.0/12.6 MB 4.6 MB/s eta 0:00:01\n",
            "   ----------------------------------- ---- 11.3/12.6 MB 4.4 MB/s eta 0:00:01\n",
            "   ------------------------------------ --- 11.5/12.6 MB 4.1 MB/s eta 0:00:01\n",
            "   ------------------------------------- -- 11.8/12.6 MB 3.7 MB/s eta 0:00:01\n",
            "   ------------------------------------- -- 11.8/12.6 MB 3.7 MB/s eta 0:00:01\n",
            "   -------------------------------------- - 12.1/12.6 MB 3.5 MB/s eta 0:00:01\n",
            "   ---------------------------------------  12.3/12.6 MB 3.4 MB/s eta 0:00:01\n",
            "   ---------------------------------------- 12.6/12.6 MB 3.2 MB/s eta 0:00:00\n",
            "Installing collected packages: numpy\n",
            "Successfully installed numpy-2.2.2\n",
            "Note: you may need to restart the kernel to use updated packages.\n"
          ]
        },
        {
          "name": "stderr",
          "output_type": "stream",
          "text": [
            "  WARNING: The scripts f2py.exe and numpy-config.exe are installed in 'c:\\Users\\João V\\AppData\\Local\\Programs\\Python\\Python313\\Scripts' which is not on PATH.\n",
            "  Consider adding this directory to PATH or, if you prefer to suppress this warning, use --no-warn-script-location.\n",
            "\n",
            "[notice] A new release of pip is available: 24.3.1 -> 25.0\n",
            "[notice] To update, run: python.exe -m pip install --upgrade pip\n"
          ]
        }
      ],
      "source": [
        "pip install numpy"
      ]
    },
    {
      "cell_type": "code",
      "execution_count": 6,
      "metadata": {
        "id": "klAD6Ybjw3lN"
      },
      "outputs": [],
      "source": [
        "import numpy as np\n",
        "import json\n",
        "import time\n",
        "# seeds = np.random.randint(1,1000, size = 5)\n",
        "seeds = [153, 442, 929, 384, 324]"
      ]
    },
    {
      "cell_type": "markdown",
      "metadata": {
        "id": "UdgjlYg7Twix"
      },
      "source": [
        "# GA (Genetic Algorithm)"
      ]
    },
    {
      "cell_type": "code",
      "execution_count": 7,
      "metadata": {
        "id": "JGQKyR5lT7jb"
      },
      "outputs": [],
      "source": [
        "def randomSolution(bases_count, limit):\n",
        "  solution = np.zeros(bases_count, dtype=bool)\n",
        "  indexes = rng.choice(list(range(bases_count)), limit, replace= False)\n",
        "  solution[indexes] = 1\n",
        "  return solution"
      ]
    },
    {
      "cell_type": "code",
      "execution_count": 8,
      "metadata": {
        "id": "qXoLCAS66bzh"
      },
      "outputs": [],
      "source": [
        "def mutation(solution):\n",
        "  ones = np.where(solution == 1)[0]\n",
        "  zeros = np.where(solution == 0)[0]\n",
        "  one = rng.choice(ones, 1)\n",
        "  zero = rng.choice(zeros, 1)\n",
        "  solution = np.copy(solution)\n",
        "  solution[one] = 0\n",
        "  solution[zero] = 1\n",
        "  return solution"
      ]
    },
    {
      "cell_type": "code",
      "execution_count": 9,
      "metadata": {
        "id": "pIrkxwOo8OyO"
      },
      "outputs": [],
      "source": [
        "def crossover(solution1,solution2):\n",
        "  child1 = solution1*solution2\n",
        "  child2 = solution1*solution2\n",
        "\n",
        "  uniques_solution = solution1 + solution2 - child1*2\n",
        "\n",
        "  ones = np.where(uniques_solution == 1)[0]\n",
        "  rng.shuffle(ones)\n",
        "  halfones = len(ones)//2\n",
        "  firsthalf = ones[:halfones]\n",
        "  secondhalf = ones[halfones:]\n",
        "\n",
        "  child1[firsthalf] = 1\n",
        "  child2[secondhalf] = 1\n",
        "\n",
        "  return (child1,child2)"
      ]
    },
    {
      "cell_type": "code",
      "execution_count": 10,
      "metadata": {
        "id": "Rgnb2gRvwK6l"
      },
      "outputs": [],
      "source": [
        "def tournament_selection(population_fitness, tournamentk, all_pop_ind, pop_size):\n",
        "  selection = []\n",
        "  for i in range(pop_size-2):\n",
        "    individuals = rng.choice(all_pop_ind, size=tournamentk, replace=False)\n",
        "    bestFitness = 0\n",
        "    best = -1\n",
        "    for i in range(tournamentk):\n",
        "      this_fitness = population_fitness[individuals[i]]\n",
        "      if(this_fitness > bestFitness):\n",
        "        bestFitness = this_fitness\n",
        "        best = individuals[i]\n",
        "    selection.append(best)\n",
        "  return selection"
      ]
    },
    {
      "cell_type": "code",
      "execution_count": 11,
      "metadata": {
        "id": "8KKe-HA00i1U"
      },
      "outputs": [],
      "source": [
        "def reproduction(population, pop_size, selection, pmut):\n",
        "  newPopulation = []\n",
        "  for i in range(pop_size//2-1):\n",
        "    ind1 = population[selection[i*2]]\n",
        "    ind2 = population[selection[i*2+1]]\n",
        "    typeReproduction = rng.random()\n",
        "    if typeReproduction < pmut:\n",
        "      # mutacao\n",
        "      newPopulation.append(mutation(ind1))\n",
        "      newPopulation.append(mutation(ind2))\n",
        "    else:\n",
        "      # crossover\n",
        "      (new1,new2) = crossover(ind1, ind2)\n",
        "      newPopulation.append(new1)\n",
        "      newPopulation.append(new2)\n",
        "  return newPopulation"
      ]
    },
    {
      "cell_type": "code",
      "execution_count": 12,
      "metadata": {
        "id": "pwTg2h2tOj32"
      },
      "outputs": [],
      "source": [
        "def objectiveFunction(solution, coverMatrix, numPeopleHelpedList):\n",
        "  coverage = coverMatrix[:,solution]\n",
        "  coverage = np.logical_or.reduce(coverage, axis=1)\n",
        "  solutionUtility = coverage*numPeopleHelpedList\n",
        "  return np.sum(solutionUtility)"
      ]
    },
    {
      "cell_type": "code",
      "execution_count": 13,
      "metadata": {
        "id": "1eefJirIsfw8"
      },
      "outputs": [],
      "source": [
        "def solveGeneticAlgorithm(pop_size, ngen, pmut, tournamentk, coverMatrix, numPeopleHelpedList, limit):\n",
        "  allPop = list(range(pop_size))\n",
        "  bases_count = coverMatrix.shape[1]\n",
        "\n",
        "  population = [randomSolution(bases_count, limit) for i in range(pop_size)]\n",
        "  for i in range(ngen):\n",
        "    population_fitness = [objectiveFunction(ind, coverMatrix, numPeopleHelpedList) for ind in population]\n",
        "    # if i % (ngen//4) == 0:\n",
        "      # print(i, np.mean(population_fitness), np.max(population_fitness))\n",
        "    indexBest = population_fitness.index(np.max(population_fitness))\n",
        "    best = population[indexBest].copy()\n",
        "\n",
        "    selection = tournament_selection(population_fitness, tournamentk, allPop, pop_size)\n",
        "    newPopulation = reproduction(population, pop_size, selection, pmut)\n",
        "\n",
        "    # elitism\n",
        "    newPopulation.append(best)\n",
        "    newPopulation.append(best)\n",
        "\n",
        "    population = newPopulation\n",
        "\n",
        "  population_fitness = [objectiveFunction(ind, coverMatrix, numPeopleHelpedList) for ind in population]\n",
        "  print(i, np.mean(population_fitness), np.max(population_fitness))\n",
        "\n",
        "  indexBest = population_fitness.index(max(population_fitness))\n",
        "  best = population[indexBest].copy()\n",
        "  return best"
      ]
    },
    {
      "cell_type": "code",
      "execution_count": 15,
      "metadata": {
        "id": "TTBbm-wNqFm4"
      },
      "outputs": [
        {
          "ename": "FileNotFoundError",
          "evalue": "[Errno 2] No such file or directory: '/content/casos_teste2x.json'",
          "output_type": "error",
          "traceback": [
            "\u001b[1;31m---------------------------------------------------------------------------\u001b[0m",
            "\u001b[1;31mFileNotFoundError\u001b[0m                         Traceback (most recent call last)",
            "Cell \u001b[1;32mIn[15], line 2\u001b[0m\n\u001b[0;32m      1\u001b[0m resultDict \u001b[38;5;241m=\u001b[39m {}\n\u001b[1;32m----> 2\u001b[0m f \u001b[38;5;241m=\u001b[39m \u001b[38;5;28;43mopen\u001b[39;49m\u001b[43m(\u001b[49m\u001b[38;5;124;43m'\u001b[39;49m\u001b[38;5;124;43m/content/casos_teste2x.json\u001b[39;49m\u001b[38;5;124;43m'\u001b[39;49m\u001b[43m)\u001b[49m\n\u001b[0;32m      3\u001b[0m data \u001b[38;5;241m=\u001b[39m json\u001b[38;5;241m.\u001b[39mload(f)\n\u001b[0;32m      4\u001b[0m \u001b[38;5;28;01mfor\u001b[39;00m instance \u001b[38;5;129;01min\u001b[39;00m data\u001b[38;5;241m.\u001b[39mkeys():\n",
            "File \u001b[1;32m~\\AppData\\Roaming\\Python\\Python313\\site-packages\\IPython\\core\\interactiveshell.py:324\u001b[0m, in \u001b[0;36m_modified_open\u001b[1;34m(file, *args, **kwargs)\u001b[0m\n\u001b[0;32m    317\u001b[0m \u001b[38;5;28;01mif\u001b[39;00m file \u001b[38;5;129;01min\u001b[39;00m {\u001b[38;5;241m0\u001b[39m, \u001b[38;5;241m1\u001b[39m, \u001b[38;5;241m2\u001b[39m}:\n\u001b[0;32m    318\u001b[0m     \u001b[38;5;28;01mraise\u001b[39;00m \u001b[38;5;167;01mValueError\u001b[39;00m(\n\u001b[0;32m    319\u001b[0m         \u001b[38;5;124mf\u001b[39m\u001b[38;5;124m\"\u001b[39m\u001b[38;5;124mIPython won\u001b[39m\u001b[38;5;124m'\u001b[39m\u001b[38;5;124mt let you open fd=\u001b[39m\u001b[38;5;132;01m{\u001b[39;00mfile\u001b[38;5;132;01m}\u001b[39;00m\u001b[38;5;124m by default \u001b[39m\u001b[38;5;124m\"\u001b[39m\n\u001b[0;32m    320\u001b[0m         \u001b[38;5;124m\"\u001b[39m\u001b[38;5;124mas it is likely to crash IPython. If you know what you are doing, \u001b[39m\u001b[38;5;124m\"\u001b[39m\n\u001b[0;32m    321\u001b[0m         \u001b[38;5;124m\"\u001b[39m\u001b[38;5;124myou can use builtins\u001b[39m\u001b[38;5;124m'\u001b[39m\u001b[38;5;124m open.\u001b[39m\u001b[38;5;124m\"\u001b[39m\n\u001b[0;32m    322\u001b[0m     )\n\u001b[1;32m--> 324\u001b[0m \u001b[38;5;28;01mreturn\u001b[39;00m \u001b[43mio_open\u001b[49m\u001b[43m(\u001b[49m\u001b[43mfile\u001b[49m\u001b[43m,\u001b[49m\u001b[43m \u001b[49m\u001b[38;5;241;43m*\u001b[39;49m\u001b[43margs\u001b[49m\u001b[43m,\u001b[49m\u001b[43m \u001b[49m\u001b[38;5;241;43m*\u001b[39;49m\u001b[38;5;241;43m*\u001b[39;49m\u001b[43mkwargs\u001b[49m\u001b[43m)\u001b[49m\n",
            "\u001b[1;31mFileNotFoundError\u001b[0m: [Errno 2] No such file or directory: '/content/casos_teste2x.json'"
          ]
        }
      ],
      "source": [
        "resultDict = {}\n",
        "f = open('/content/casos_teste2x.json')\n",
        "data = json.load(f)\n",
        "for instance in data.keys():\n",
        "  data[instance]['matriz'] = np.asarray(data[instance]['matriz'])\n",
        "  data[instance]['populacao'] = np.asarray(data[instance]['populacao'])"
      ]
    },
    {
      "cell_type": "code",
      "execution_count": 14,
      "metadata": {
        "colab": {
          "base_uri": "https://localhost:8080/"
        },
        "id": "6jsxkHouqmJO",
        "outputId": "905a3952-f66b-44f0-c7b6-abd55e9e89b4"
      },
      "outputs": [
        {
          "ename": "NameError",
          "evalue": "name 'data' is not defined",
          "output_type": "error",
          "traceback": [
            "\u001b[1;31m---------------------------------------------------------------------------\u001b[0m",
            "\u001b[1;31mNameError\u001b[0m                                 Traceback (most recent call last)",
            "Cell \u001b[1;32mIn[14], line 1\u001b[0m\n\u001b[1;32m----> 1\u001b[0m \u001b[43mdata\u001b[49m\u001b[38;5;241m.\u001b[39mkeys()\n",
            "\u001b[1;31mNameError\u001b[0m: name 'data' is not defined"
          ]
        }
      ],
      "source": [
        "data.keys()"
      ]
    },
    {
      "cell_type": "code",
      "execution_count": null,
      "metadata": {
        "colab": {
          "base_uri": "https://localhost:8080/",
          "height": 460
        },
        "id": "7Yg6qO6e4TYX",
        "outputId": "7217a129-911d-4a7a-edc9-f5fd62e3df0b"
      },
      "outputs": [
        {
          "name": "stdout",
          "output_type": "stream",
          "text": [
            "99 48715.8075 52304\n",
            "99 48865.1775 52304\n"
          ]
        },
        {
          "ename": "KeyboardInterrupt",
          "evalue": "ignored",
          "output_type": "error",
          "traceback": [
            "\u001b[0;31m---------------------------------------------------------------------------\u001b[0m",
            "\u001b[0;31mKeyboardInterrupt\u001b[0m                         Traceback (most recent call last)",
            "\u001b[0;32m<ipython-input-14-86c53734f8eb>\u001b[0m in \u001b[0;36m<cell line: 6>\u001b[0;34m()\u001b[0m\n\u001b[1;32m      6\u001b[0m \u001b[0;32mfor\u001b[0m \u001b[0mseed\u001b[0m \u001b[0;32min\u001b[0m \u001b[0mseeds\u001b[0m\u001b[0;34m:\u001b[0m\u001b[0;34m\u001b[0m\u001b[0;34m\u001b[0m\u001b[0m\n\u001b[1;32m      7\u001b[0m   \u001b[0mrng\u001b[0m \u001b[0;34m=\u001b[0m \u001b[0mnp\u001b[0m\u001b[0;34m.\u001b[0m\u001b[0mrandom\u001b[0m\u001b[0;34m.\u001b[0m\u001b[0mdefault_rng\u001b[0m\u001b[0;34m(\u001b[0m\u001b[0mseed\u001b[0m\u001b[0;34m=\u001b[0m\u001b[0mseed\u001b[0m\u001b[0;34m)\u001b[0m\u001b[0;34m\u001b[0m\u001b[0;34m\u001b[0m\u001b[0m\n\u001b[0;32m----> 8\u001b[0;31m   \u001b[0mbest\u001b[0m \u001b[0;34m=\u001b[0m \u001b[0msolveGeneticAlgorithm\u001b[0m\u001b[0;34m(\u001b[0m\u001b[0;36m400\u001b[0m\u001b[0;34m,\u001b[0m \u001b[0;36m100\u001b[0m\u001b[0;34m,\u001b[0m \u001b[0;36m0.7\u001b[0m\u001b[0;34m,\u001b[0m \u001b[0;36m5\u001b[0m\u001b[0;34m,\u001b[0m \u001b[0mcoverMatrix\u001b[0m \u001b[0;34m=\u001b[0m \u001b[0mmatriz\u001b[0m\u001b[0;34m,\u001b[0m \u001b[0mnumPeopleHelpedList\u001b[0m \u001b[0;34m=\u001b[0m \u001b[0mpopulacao\u001b[0m\u001b[0;34m,\u001b[0m \u001b[0mlimit\u001b[0m \u001b[0;34m=\u001b[0m \u001b[0mp\u001b[0m\u001b[0;34m)\u001b[0m\u001b[0;34m\u001b[0m\u001b[0;34m\u001b[0m\u001b[0m\n\u001b[0m\u001b[1;32m      9\u001b[0m   \u001b[0mresult\u001b[0m\u001b[0;34m.\u001b[0m\u001b[0mappend\u001b[0m\u001b[0;34m(\u001b[0m\u001b[0mobjectiveFunction\u001b[0m\u001b[0;34m(\u001b[0m\u001b[0mbest\u001b[0m\u001b[0;34m,\u001b[0m\u001b[0mmatriz\u001b[0m\u001b[0;34m,\u001b[0m\u001b[0mpopulacao\u001b[0m\u001b[0;34m)\u001b[0m\u001b[0;34m)\u001b[0m\u001b[0;34m\u001b[0m\u001b[0;34m\u001b[0m\u001b[0m\n\u001b[1;32m     10\u001b[0m \u001b[0mresult\u001b[0m \u001b[0;34m=\u001b[0m \u001b[0mnp\u001b[0m\u001b[0;34m.\u001b[0m\u001b[0marray\u001b[0m\u001b[0;34m(\u001b[0m\u001b[0mresult\u001b[0m\u001b[0;34m)\u001b[0m\u001b[0;34m\u001b[0m\u001b[0;34m\u001b[0m\u001b[0m\n",
            "\u001b[0;32m<ipython-input-8-49d0007084fc>\u001b[0m in \u001b[0;36msolveGeneticAlgorithm\u001b[0;34m(pop_size, ngen, pmut, tournamentk, coverMatrix, numPeopleHelpedList, limit)\u001b[0m\n\u001b[1;32m     12\u001b[0m \u001b[0;34m\u001b[0m\u001b[0m\n\u001b[1;32m     13\u001b[0m     \u001b[0mselection\u001b[0m \u001b[0;34m=\u001b[0m \u001b[0mtournament_selection\u001b[0m\u001b[0;34m(\u001b[0m\u001b[0mpopulation_fitness\u001b[0m\u001b[0;34m,\u001b[0m \u001b[0mtournamentk\u001b[0m\u001b[0;34m,\u001b[0m \u001b[0mallPop\u001b[0m\u001b[0;34m,\u001b[0m \u001b[0mpop_size\u001b[0m\u001b[0;34m)\u001b[0m\u001b[0;34m\u001b[0m\u001b[0;34m\u001b[0m\u001b[0m\n\u001b[0;32m---> 14\u001b[0;31m     \u001b[0mnewPopulation\u001b[0m \u001b[0;34m=\u001b[0m \u001b[0mreproduction\u001b[0m\u001b[0;34m(\u001b[0m\u001b[0mpopulation\u001b[0m\u001b[0;34m,\u001b[0m \u001b[0mpop_size\u001b[0m\u001b[0;34m,\u001b[0m \u001b[0mselection\u001b[0m\u001b[0;34m,\u001b[0m \u001b[0mpmut\u001b[0m\u001b[0;34m)\u001b[0m\u001b[0;34m\u001b[0m\u001b[0;34m\u001b[0m\u001b[0m\n\u001b[0m\u001b[1;32m     15\u001b[0m \u001b[0;34m\u001b[0m\u001b[0m\n\u001b[1;32m     16\u001b[0m     \u001b[0;31m# elitism\u001b[0m\u001b[0;34m\u001b[0m\u001b[0;34m\u001b[0m\u001b[0m\n",
            "\u001b[0;32m<ipython-input-6-d27563f6115a>\u001b[0m in \u001b[0;36mreproduction\u001b[0;34m(population, pop_size, selection, pmut)\u001b[0m\n\u001b[1;32m      7\u001b[0m     \u001b[0;32mif\u001b[0m \u001b[0mtypeReproduction\u001b[0m \u001b[0;34m<\u001b[0m \u001b[0mpmut\u001b[0m\u001b[0;34m:\u001b[0m\u001b[0;34m\u001b[0m\u001b[0;34m\u001b[0m\u001b[0m\n\u001b[1;32m      8\u001b[0m       \u001b[0;31m# mutacao\u001b[0m\u001b[0;34m\u001b[0m\u001b[0;34m\u001b[0m\u001b[0m\n\u001b[0;32m----> 9\u001b[0;31m       \u001b[0mnewPopulation\u001b[0m\u001b[0;34m.\u001b[0m\u001b[0mappend\u001b[0m\u001b[0;34m(\u001b[0m\u001b[0mmutation\u001b[0m\u001b[0;34m(\u001b[0m\u001b[0mind1\u001b[0m\u001b[0;34m)\u001b[0m\u001b[0;34m)\u001b[0m\u001b[0;34m\u001b[0m\u001b[0;34m\u001b[0m\u001b[0m\n\u001b[0m\u001b[1;32m     10\u001b[0m       \u001b[0mnewPopulation\u001b[0m\u001b[0;34m.\u001b[0m\u001b[0mappend\u001b[0m\u001b[0;34m(\u001b[0m\u001b[0mmutation\u001b[0m\u001b[0;34m(\u001b[0m\u001b[0mind2\u001b[0m\u001b[0;34m)\u001b[0m\u001b[0;34m)\u001b[0m\u001b[0;34m\u001b[0m\u001b[0;34m\u001b[0m\u001b[0m\n\u001b[1;32m     11\u001b[0m     \u001b[0;32melse\u001b[0m\u001b[0;34m:\u001b[0m\u001b[0;34m\u001b[0m\u001b[0;34m\u001b[0m\u001b[0m\n",
            "\u001b[0;32m<ipython-input-3-9bffb72b96a7>\u001b[0m in \u001b[0;36mmutation\u001b[0;34m(solution)\u001b[0m\n\u001b[1;32m      2\u001b[0m   \u001b[0mones\u001b[0m \u001b[0;34m=\u001b[0m \u001b[0mnp\u001b[0m\u001b[0;34m.\u001b[0m\u001b[0mwhere\u001b[0m\u001b[0;34m(\u001b[0m\u001b[0msolution\u001b[0m \u001b[0;34m==\u001b[0m \u001b[0;36m1\u001b[0m\u001b[0;34m)\u001b[0m\u001b[0;34m[\u001b[0m\u001b[0;36m0\u001b[0m\u001b[0;34m]\u001b[0m\u001b[0;34m\u001b[0m\u001b[0;34m\u001b[0m\u001b[0m\n\u001b[1;32m      3\u001b[0m   \u001b[0mzeros\u001b[0m \u001b[0;34m=\u001b[0m \u001b[0mnp\u001b[0m\u001b[0;34m.\u001b[0m\u001b[0mwhere\u001b[0m\u001b[0;34m(\u001b[0m\u001b[0msolution\u001b[0m \u001b[0;34m==\u001b[0m \u001b[0;36m0\u001b[0m\u001b[0;34m)\u001b[0m\u001b[0;34m[\u001b[0m\u001b[0;36m0\u001b[0m\u001b[0;34m]\u001b[0m\u001b[0;34m\u001b[0m\u001b[0;34m\u001b[0m\u001b[0m\n\u001b[0;32m----> 4\u001b[0;31m   \u001b[0mone\u001b[0m \u001b[0;34m=\u001b[0m \u001b[0mrng\u001b[0m\u001b[0;34m.\u001b[0m\u001b[0mchoice\u001b[0m\u001b[0;34m(\u001b[0m\u001b[0mones\u001b[0m\u001b[0;34m,\u001b[0m \u001b[0;36m1\u001b[0m\u001b[0;34m)\u001b[0m\u001b[0;34m\u001b[0m\u001b[0;34m\u001b[0m\u001b[0m\n\u001b[0m\u001b[1;32m      5\u001b[0m   \u001b[0mzero\u001b[0m \u001b[0;34m=\u001b[0m \u001b[0mrng\u001b[0m\u001b[0;34m.\u001b[0m\u001b[0mchoice\u001b[0m\u001b[0;34m(\u001b[0m\u001b[0mzeros\u001b[0m\u001b[0;34m,\u001b[0m \u001b[0;36m1\u001b[0m\u001b[0;34m)\u001b[0m\u001b[0;34m\u001b[0m\u001b[0;34m\u001b[0m\u001b[0m\n\u001b[1;32m      6\u001b[0m   \u001b[0msolution\u001b[0m \u001b[0;34m=\u001b[0m \u001b[0mnp\u001b[0m\u001b[0;34m.\u001b[0m\u001b[0mcopy\u001b[0m\u001b[0;34m(\u001b[0m\u001b[0msolution\u001b[0m\u001b[0;34m)\u001b[0m\u001b[0;34m\u001b[0m\u001b[0;34m\u001b[0m\u001b[0m\n",
            "\u001b[0;32m_generator.pyx\u001b[0m in \u001b[0;36mnumpy.random._generator.Generator.choice\u001b[0;34m()\u001b[0m\n",
            "\u001b[0;32m/usr/local/lib/python3.10/dist-packages/numpy/core/overrides.py\u001b[0m in \u001b[0;36mprod\u001b[0;34m(*args, **kwargs)\u001b[0m\n",
            "\u001b[0;32m/usr/local/lib/python3.10/dist-packages/numpy/core/fromnumeric.py\u001b[0m in \u001b[0;36mprod\u001b[0;34m(a, axis, dtype, out, keepdims, initial, where)\u001b[0m\n\u001b[1;32m   3043\u001b[0m     \u001b[0;36m10\u001b[0m\u001b[0;34m\u001b[0m\u001b[0;34m\u001b[0m\u001b[0m\n\u001b[1;32m   3044\u001b[0m     \"\"\"\n\u001b[0;32m-> 3045\u001b[0;31m     return _wrapreduction(a, np.multiply, 'prod', axis, dtype, out,\n\u001b[0m\u001b[1;32m   3046\u001b[0m                           keepdims=keepdims, initial=initial, where=where)\n\u001b[1;32m   3047\u001b[0m \u001b[0;34m\u001b[0m\u001b[0m\n",
            "\u001b[0;32m/usr/local/lib/python3.10/dist-packages/numpy/core/fromnumeric.py\u001b[0m in \u001b[0;36m_wrapreduction\u001b[0;34m(obj, ufunc, method, axis, dtype, out, **kwargs)\u001b[0m\n\u001b[1;32m     84\u001b[0m                 \u001b[0;32mreturn\u001b[0m \u001b[0mreduction\u001b[0m\u001b[0;34m(\u001b[0m\u001b[0maxis\u001b[0m\u001b[0;34m=\u001b[0m\u001b[0maxis\u001b[0m\u001b[0;34m,\u001b[0m \u001b[0mout\u001b[0m\u001b[0;34m=\u001b[0m\u001b[0mout\u001b[0m\u001b[0;34m,\u001b[0m \u001b[0;34m**\u001b[0m\u001b[0mpasskwargs\u001b[0m\u001b[0;34m)\u001b[0m\u001b[0;34m\u001b[0m\u001b[0;34m\u001b[0m\u001b[0m\n\u001b[1;32m     85\u001b[0m \u001b[0;34m\u001b[0m\u001b[0m\n\u001b[0;32m---> 86\u001b[0;31m     \u001b[0;32mreturn\u001b[0m \u001b[0mufunc\u001b[0m\u001b[0;34m.\u001b[0m\u001b[0mreduce\u001b[0m\u001b[0;34m(\u001b[0m\u001b[0mobj\u001b[0m\u001b[0;34m,\u001b[0m \u001b[0maxis\u001b[0m\u001b[0;34m,\u001b[0m \u001b[0mdtype\u001b[0m\u001b[0;34m,\u001b[0m \u001b[0mout\u001b[0m\u001b[0;34m,\u001b[0m \u001b[0;34m**\u001b[0m\u001b[0mpasskwargs\u001b[0m\u001b[0;34m)\u001b[0m\u001b[0;34m\u001b[0m\u001b[0;34m\u001b[0m\u001b[0m\n\u001b[0m\u001b[1;32m     87\u001b[0m \u001b[0;34m\u001b[0m\u001b[0m\n\u001b[1;32m     88\u001b[0m \u001b[0;34m\u001b[0m\u001b[0m\n",
            "\u001b[0;31mKeyboardInterrupt\u001b[0m: "
          ]
        }
      ],
      "source": [
        "matriz = data['kroA150']['matriz']\n",
        "populacao = data['kroA150']['populacao']\n",
        "p = int(np.ceil(matriz.shape[1]*0.2))\n",
        "\n",
        "\n",
        "\n",
        "result = []\n",
        "for seed in seeds:\n",
        "  rng = np.random.default_rng(seed=seed)\n",
        "  best = solveGeneticAlgorithm(400, 100, 0.7, 5, coverMatrix = matriz, numPeopleHelpedList = populacao, limit = p)\n",
        "  result.append(objectiveFunction(best,matriz,populacao))\n",
        "result = np.array(result)"
      ]
    },
    {
      "cell_type": "code",
      "execution_count": null,
      "metadata": {
        "id": "9x1C39gX4fE6"
      },
      "outputs": [],
      "source": [
        "resultDict = {}"
      ]
    },
    {
      "cell_type": "code",
      "execution_count": null,
      "metadata": {
        "colab": {
          "base_uri": "https://localhost:8080/"
        },
        "id": "S3tnnMOvWv1R",
        "outputId": "a95c9243-e1bb-4ff1-d90e-96af79aafef5"
      },
      "outputs": [
        {
          "name": "stdout",
          "output_type": "stream",
          "text": [
            "att48\n",
            "99 18164.6025 21097\n",
            "99 18121.5275 21097\n",
            "99 18381.0675 21097\n",
            "99 17982.1025 21097\n",
            "99 18071.945 21097\n",
            "berlin52\n",
            "99 20175.225 22414\n",
            "99 19708.555 22414\n",
            "99 20209.9575 22414\n",
            "99 19995.95 22414\n",
            "99 20113.39 22414\n",
            "kroA100\n",
            "99 24247.5125 28066\n",
            "99 23985.5575 28066\n",
            "99 24168.495 28066\n",
            "99 24387.6875 28066\n",
            "99 24152.58 28066\n",
            "kroA150\n",
            "99 47262.13 52304\n",
            "99 47814.92 52304\n",
            "99 47008.73 52304\n",
            "99 47491.1275 52304\n",
            "99 47818.1925 52304\n",
            "kroA200\n",
            "99 66756.2475 72776\n",
            "99 66517.0825 72776\n",
            "99 66943.2525 72776\n",
            "99 67183.52 72776\n",
            "99 66896.82 72776\n",
            "kroB100\n",
            "99 33788.61 38819\n",
            "99 33658.0375 38819\n",
            "99 33791.88 38819\n",
            "99 33865.12 38819\n",
            "99 33765.865 38819\n",
            "kroB150\n",
            "99 51433.375 56654\n",
            "99 51368.875 56654\n",
            "99 51415.22 56654\n",
            "99 51669.4525 56654\n",
            "99 51639.92 56654\n",
            "kroB200\n",
            "99 60174.5675 65297\n",
            "99 60320.26 65297\n",
            "99 60501.7575 65297\n",
            "99 59826.2175 65297\n",
            "99 60322.815 65297\n",
            "kroC100\n",
            "99 22875.015 25778\n",
            "99 22657.7775 25778\n",
            "99 22996.615 25778\n",
            "99 22707.035 25778\n",
            "99 22901.9175 25778\n",
            "kroD100\n",
            "99 30042.675 35413\n",
            "99 30524.06 35413\n",
            "99 30848.685 35413\n",
            "99 29959.9725 35413\n",
            "99 30819.0 35413\n",
            "kroE100\n",
            "99 32431.735 36824\n",
            "99 32503.78 36824\n",
            "99 32136.695 36824\n",
            "99 32081.505 36824\n",
            "99 32079.625 36824\n",
            "lin105\n",
            "99 29367.285 32918\n",
            "99 29367.6925 32918\n",
            "99 29207.2725 32918\n",
            "99 29437.0925 32918\n",
            "99 29449.27 32918\n",
            "pr107\n",
            "99 14798.9475 15978\n",
            "99 14874.5325 15978\n",
            "99 14824.3775 15978\n",
            "99 14830.2375 15978\n",
            "99 14810.2125 15978\n",
            "pr124\n",
            "99 42335.5625 48556\n",
            "99 42082.455 48556\n",
            "99 42659.42 48556\n",
            "99 42999.4675 48556\n",
            "99 42949.4575 48556\n",
            "pr136\n",
            "99 42321.31 48502\n",
            "99 42698.405 48502\n",
            "99 42030.15 48502\n",
            "99 42731.1125 48502\n",
            "99 42359.675 48502\n",
            "pr144\n",
            "99 32883.09 35821\n",
            "99 32732.47 35821\n",
            "99 32937.2475 35821\n",
            "99 33187.385 35821\n",
            "99 33080.555 35821\n",
            "pr152\n",
            "99 27933.275 31379\n",
            "99 27972.6075 31379\n",
            "99 28216.15 31379\n",
            "99 28266.975 31379\n",
            "99 28342.21 31379\n",
            "pr76\n",
            "99 19815.9925 24136\n",
            "99 20169.8125 24136\n",
            "99 20072.1625 24136\n",
            "99 19993.0075 24136\n",
            "99 20211.8775 24136\n",
            "rat195\n",
            "99 70421.7775 75548\n",
            "99 69758.0175 75548\n",
            "99 70266.8075 75548\n",
            "99 69938.35 75548\n",
            "99 70008.9025 75548\n",
            "rat99\n",
            "99 31162.49 36548\n",
            "99 31177.6025 36548\n",
            "99 31838.985 36548\n",
            "99 31397.485 36548\n",
            "99 31449.13 36548\n",
            "st70\n",
            "99 14387.595 16322\n",
            "99 14235.925 16322\n",
            "99 13929.4675 16322\n",
            "99 14417.51 16322\n",
            "99 14326.9525 16322\n"
          ]
        }
      ],
      "source": [
        "for instance in data.keys():\n",
        "  print(instance)\n",
        "  matriz = data[instance]['matriz']\n",
        "  populacao = data[instance]['populacao']\n",
        "  p = int(np.ceil(matriz.shape[1]*0.2))\n",
        "\n",
        "  result = []\n",
        "  duration = []\n",
        "  for seed in seeds:\n",
        "    rng = np.random.default_rng(seed=seed)\n",
        "    start_time = time.time()\n",
        "    best = solveGeneticAlgorithm(400, 100, 0.8, 5, coverMatrix = matriz, numPeopleHelpedList = populacao, limit = p)\n",
        "    end_time = time.time()\n",
        "    duration.append(end_time-start_time)\n",
        "\n",
        "    result.append(objectiveFunction(best,matriz,populacao))\n",
        "  result = np.array(result)\n",
        "  duration = np.array(duration)\n",
        "  resultDict[instance] = {'mean': result.mean(), 'std': result.std(), 'duration':duration.mean()}"
      ]
    },
    {
      "cell_type": "code",
      "execution_count": null,
      "metadata": {
        "colab": {
          "base_uri": "https://localhost:8080/"
        },
        "id": "b1L3fBFe4TFE",
        "outputId": "708ce011-99c1-441e-c49a-49c252785c55"
      },
      "outputs": [
        {
          "data": {
            "text/plain": [
              "{'att48': {'mean': 21097.0, 'std': 0.0, 'duration': 5.0612263679504395},\n",
              " 'berlin52': {'mean': 22414.0, 'std': 0.0, 'duration': 5.09383454322815},\n",
              " 'kroA100': {'mean': 28066.0, 'std': 0.0, 'duration': 4.859729814529419},\n",
              " 'kroA150': {'mean': 52304.0, 'std': 0.0, 'duration': 5.085614538192749},\n",
              " 'kroA200': {'mean': 72776.0, 'std': 0.0, 'duration': 5.244046545028686},\n",
              " 'kroB100': {'mean': 38819.0, 'std': 0.0, 'duration': 5.103917026519776},\n",
              " 'kroB150': {'mean': 56654.0, 'std': 0.0, 'duration': 5.18713755607605},\n",
              " 'kroB200': {'mean': 65297.0, 'std': 0.0, 'duration': 4.88747124671936},\n",
              " 'kroC100': {'mean': 25778.0, 'std': 0.0, 'duration': 5.130774784088135},\n",
              " 'kroD100': {'mean': 35413.0, 'std': 0.0, 'duration': 5.098598766326904},\n",
              " 'kroE100': {'mean': 36824.0, 'std': 0.0, 'duration': 5.162283802032471},\n",
              " 'lin105': {'mean': 32918.0, 'std': 0.0, 'duration': 4.923824977874756},\n",
              " 'pr107': {'mean': 15978.0, 'std': 0.0, 'duration': 5.000982475280762},\n",
              " 'pr124': {'mean': 48556.0, 'std': 0.0, 'duration': 5.176212024688721},\n",
              " 'pr136': {'mean': 48502.0, 'std': 0.0, 'duration': 5.180799388885498},\n",
              " 'pr144': {'mean': 35821.0, 'std': 0.0, 'duration': 5.18347749710083},\n",
              " 'pr152': {'mean': 31379.0, 'std': 0.0, 'duration': 4.80505337715149},\n",
              " 'pr76': {'mean': 24136.0, 'std': 0.0, 'duration': 5.101042747497559},\n",
              " 'rat195': {'mean': 75548.0, 'std': 0.0, 'duration': 5.2375},\n",
              " 'rat99': {'mean': 36548.0, 'std': 0.0, 'duration': 5.171657276153565},\n",
              " 'st70': {'mean': 16322.0, 'std': 0.0, 'duration': 4.849347305297852}}"
            ]
          },
          "execution_count": 25,
          "metadata": {},
          "output_type": "execute_result"
        }
      ],
      "source": [
        "resultDict"
      ]
    },
    {
      "cell_type": "code",
      "execution_count": null,
      "metadata": {
        "id": "VhrHv0qb4tmi"
      },
      "outputs": [],
      "source": []
    },
    {
      "cell_type": "code",
      "execution_count": null,
      "metadata": {
        "colab": {
          "base_uri": "https://localhost:8080/"
        },
        "id": "nLo3ecEd1jCW",
        "outputId": "8674dd06-ec86-49db-bc02-51c15002cae1"
      },
      "outputs": [
        {
          "name": "stdout",
          "output_type": "stream",
          "text": [
            "5.0612263679504395\n",
            "5.09383454322815\n",
            "4.859729814529419\n",
            "5.085614538192749\n",
            "5.244046545028686\n",
            "5.103917026519776\n",
            "5.18713755607605\n",
            "4.88747124671936\n",
            "5.130774784088135\n",
            "5.098598766326904\n",
            "5.162283802032471\n",
            "4.923824977874756\n",
            "5.000982475280762\n",
            "5.176212024688721\n",
            "5.180799388885498\n",
            "5.18347749710083\n",
            "4.80505337715149\n",
            "5.101042747497559\n",
            "5.2375\n",
            "5.171657276153565\n",
            "4.849347305297852\n"
          ]
        }
      ],
      "source": [
        "for result in resultDict:\n",
        "  print(resultDict[result]['duration'])"
      ]
    },
    {
      "cell_type": "code",
      "execution_count": null,
      "metadata": {
        "id": "uNwNq07qpRdo"
      },
      "outputs": [],
      "source": [
        "with open('resultGA2.json', 'w') as json_file:\n",
        "    json.dump(resultDict, json_file)"
      ]
    },
    {
      "cell_type": "code",
      "execution_count": null,
      "metadata": {
        "colab": {
          "base_uri": "https://localhost:8080/"
        },
        "id": "81FL5kEBpQjp",
        "outputId": "e23402cf-71cc-4c4b-d753-ac45dd412cd9"
      },
      "outputs": [
        {
          "name": "stdout",
          "output_type": "stream",
          "text": [
            "att48 , 5.0612263679504395 ;\n",
            "berlin52 , 5.09383454322815 ;\n",
            "kroA100 , 4.859729814529419 ;\n",
            "kroA150 , 5.085614538192749 ;\n",
            "kroA200 , 5.244046545028686 ;\n",
            "kroB100 , 5.103917026519776 ;\n",
            "kroB150 , 5.18713755607605 ;\n",
            "kroB200 , 4.88747124671936 ;\n",
            "kroC100 , 5.130774784088135 ;\n",
            "kroD100 , 5.098598766326904 ;\n",
            "kroE100 , 5.162283802032471 ;\n",
            "lin105 , 4.923824977874756 ;\n",
            "pr107 , 5.000982475280762 ;\n",
            "pr124 , 5.176212024688721 ;\n",
            "pr136 , 5.180799388885498 ;\n",
            "pr144 , 5.18347749710083 ;\n",
            "pr152 , 4.80505337715149 ;\n",
            "pr76 , 5.101042747497559 ;\n",
            "rat195 , 5.2375 ;\n",
            "rat99 , 5.171657276153565 ;\n",
            "st70 , 4.849347305297852 ;\n"
          ]
        }
      ],
      "source": [
        "for i in resultDict:\n",
        "  print(i, ',', resultDict[i]['duration'],';')"
      ]
    },
    {
      "cell_type": "code",
      "execution_count": null,
      "metadata": {
        "id": "NFg5Y6aJmXyK"
      },
      "outputs": [],
      "source": [
        "resultDict"
      ]
    },
    {
      "cell_type": "markdown",
      "metadata": {
        "id": "Qux30k0P5ccr"
      },
      "source": []
    }
  ],
  "metadata": {
    "colab": {
      "provenance": []
    },
    "kernelspec": {
      "display_name": "Python 3",
      "name": "python3"
    },
    "language_info": {
      "codemirror_mode": {
        "name": "ipython",
        "version": 3
      },
      "file_extension": ".py",
      "mimetype": "text/x-python",
      "name": "python",
      "nbconvert_exporter": "python",
      "pygments_lexer": "ipython3",
      "version": "3.13.1"
    }
  },
  "nbformat": 4,
  "nbformat_minor": 0
}
